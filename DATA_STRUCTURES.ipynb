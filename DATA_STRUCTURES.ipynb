{
  "nbformat": 4,
  "nbformat_minor": 0,
  "metadata": {
    "colab": {
      "provenance": []
    },
    "kernelspec": {
      "name": "python3",
      "display_name": "Python 3"
    },
    "language_info": {
      "name": "python"
    }
  },
  "cells": [
    {
      "cell_type": "code",
      "execution_count": null,
      "metadata": {
        "id": "-zPXThW3OdXO"
      },
      "outputs": [],
      "source": []
    },
    {
      "cell_type": "markdown",
      "source": [
        "1.What are data structures, and why are they important?\n",
        "\n",
        "->Data structure is a way of organizing and storing data in computer programming and they are important because it can be accessed and manipulated efficiently.\n",
        "\n",
        "2.P  Explain the difference between mutable and immutable data types with examples.\n",
        "\n",
        "-> Mutable data types are the data types which allows you to change value after being created while immutable data type structures dont allow any change after being created.\n",
        "eg: mutable data type are list and dictionaries.\n",
        "eg:immutable data type are tupple and string.\n",
        "\n",
        "3.What are the main differences between lists and tuples in Python?\n",
        "\n",
        "->List are mutable data type structure and are represented with square brackets\n",
        "'[]' while tuples are immutable type data structure and are represented with round brackets'()'.\n",
        "\n",
        "4.Describe how dictionaries store data.\n",
        "\n",
        "->Dictionaries are used to store data value in key:value pairs within braces'{}'\n",
        "\n",
        "5.Why might you use a set instead of a list in Python?\n",
        "\n",
        "-> You must use a set instead of list in python because set cannot have multiple occurences of the same elements,it make sets highly useful to efficiently removes the duplicate values from list and perform operations.Sets also use less memory.\n",
        "\n",
        "6.What is a string in Python, and how is it different from a list?\n",
        "\n",
        "-> String is a sequence of character enclosed in double or single quotes '',\"\".\n",
        "we need string to represent and manipulate textual data.Strings are immutable while list are mutable.\n",
        "\n",
        "7.How do tuples ensure data integrity in Python?\n",
        "\n",
        "->Tuples are immutable to ensure that their contents remain constant throughout their lifecycle, this is the way tuples ensures data integrity.\n",
        "\n",
        "8.What is a hash table, and how does it relate to dictionaries in Python?\n",
        "\n",
        "->A hash table is data structure that stores key value pairs efficiently by using a hash function to quickly locate value based on their keys,essentially acting like a dictionary where you can look up a value using a specific key.\n",
        "\n",
        "9.Can lists contain different data types in Python?\n",
        "\n",
        "->Lists are heterogenous data types it can contain different data types in python.\n",
        "\n",
        " 10.Explain why strings are immutable in Python?\n",
        "\n",
        " ->Strings are immutable in python because they cannot be changed after they are created.\n",
        "\n",
        " 11.What advantages do dictionaries offer over lists for certain tasks?\n",
        "\n",
        " ->Dictionaries provide fast access to value based on their keys.\n",
        " ->Dictionaries can be easily resized when required.\n",
        "\n",
        " 12.Describe a scenario where using a tuple would be preferable over a list.\n",
        "\n",
        " -> For example you need to maintain a record of 'employees id' which is fixed and does not required any change after being created in this case using tuple is more suitable as compared to list.\n",
        "\n",
        "13.How do sets handle duplicate values in Python?\n",
        "\n",
        "->Set automatically removes duplicate values. When you add a value to set it checks if that element is already present. If the value is already present in the set it wont be added again.\n",
        "\n",
        " 14.How does the “in” keyword work differently for lists and dictionaries.\n",
        "\n",
        " ->In a list, 'in' checks if the value is present in the list.\n",
        " ->In a dictionary,'in' checks it the key is present,not the value.\n",
        "\n",
        " 15.Can you modify the elements of a tuple? Explain why or why not.\n",
        "\n",
        " ->No, we cannot modify the elements in tuple because tuples are immutable.\n",
        "\n",
        " 16.What is a nested dictionary, and give an example of its use case?\n",
        "\n",
        " ->A nested dictionary is a dictionary where the values themselves are dictionaries.Use case:-It can be used in school management system to store and manage data for multiple students, their grades in various subjects and their personal details.\n",
        "\n",
        " 17.Describe the time complexity of accessing elements in a dictionary?\n",
        "\n",
        " ->In Python, dictionaries are implemented using hash tables, which allow for constant time average complexity for lookups, insertions, and deletions.\n",
        "\n",
        " 18.In what situations are lists preferred over dictionaries?\n",
        "\n",
        " ->Lists are preferred over dictionaries in Python in situations where:\n",
        " ->storing a sequence of numbers\n",
        " ->Managing a collection of items where the order and position are important\n",
        " ->Traversing through a list of elements in order\n",
        "\n",
        " 19.Why are dictionaries considered unordered, and how does that affect data retrieval.\n",
        "\n",
        " -> Dictionaries are unordered because it does not maintain the order in which key value pairs are added.the ability to retrieve data in a specific order or rely on iteration might be impacted.\n",
        "\n",
        " 20.Explain the difference between a list and a dictionary in terms of data retrieval.\n",
        "\n",
        " ->Lists retrieve data by index ordered collection, slower for searching by value.\n",
        " ->dictionary retrieve data by key."
      ],
      "metadata": {
        "id": "UKgbQUWlOlrQ"
      }
    },
    {
      "cell_type": "code",
      "source": [],
      "metadata": {
        "id": "-NkoQnSRjJY3"
      },
      "execution_count": null,
      "outputs": []
    },
    {
      "cell_type": "markdown",
      "source": [
        "###PRACTICAL QUESTIONS"
      ],
      "metadata": {
        "id": "0IYbHUinjKvh"
      }
    },
    {
      "cell_type": "code",
      "source": [
        "#1. Write a code to create a string with your name and print it.\n",
        "str=\"Astha Sharma\"\n",
        "print(str)\n"
      ],
      "metadata": {
        "colab": {
          "base_uri": "https://localhost:8080/"
        },
        "id": "klGwPHy8jQsy",
        "outputId": "695f9652-b8b7-4241-820f-24e84c7b5504"
      },
      "execution_count": 2,
      "outputs": [
        {
          "output_type": "stream",
          "name": "stdout",
          "text": [
            "Astha Sharma\n"
          ]
        }
      ]
    },
    {
      "cell_type": "code",
      "source": [
        "#2.Write a code to find the length of the string \"Hello World\"\n",
        "str=\"Hello World\"\n",
        "len(str)"
      ],
      "metadata": {
        "colab": {
          "base_uri": "https://localhost:8080/"
        },
        "id": "aYLWBcWrj2kM",
        "outputId": "be6a5859-3f6f-4a97-f7d2-08ca457a7e13"
      },
      "execution_count": 3,
      "outputs": [
        {
          "output_type": "execute_result",
          "data": {
            "text/plain": [
              "11"
            ]
          },
          "metadata": {},
          "execution_count": 3
        }
      ]
    },
    {
      "cell_type": "code",
      "source": [
        "#3.Write a code to slice the first 3 characters from the string \"Python Programming\n",
        "str=\"Python Programming\"\n",
        "str[:3]"
      ],
      "metadata": {
        "colab": {
          "base_uri": "https://localhost:8080/",
          "height": 36
        },
        "id": "HxaphR4SkDZG",
        "outputId": "86d53a86-d93e-4310-ad83-f3f7e9de59dd"
      },
      "execution_count": 6,
      "outputs": [
        {
          "output_type": "execute_result",
          "data": {
            "text/plain": [
              "'Pyt'"
            ],
            "application/vnd.google.colaboratory.intrinsic+json": {
              "type": "string"
            }
          },
          "metadata": {},
          "execution_count": 6
        }
      ]
    },
    {
      "cell_type": "code",
      "source": [
        "#4.Write a code to convert the string \"hello\" to uppercase.\n",
        "str=\"hello\"\n",
        "str.upper()"
      ],
      "metadata": {
        "colab": {
          "base_uri": "https://localhost:8080/",
          "height": 36
        },
        "id": "GbutxRBUlUwd",
        "outputId": "be5b6964-7eec-4690-a593-bfd15e7b355f"
      },
      "execution_count": 7,
      "outputs": [
        {
          "output_type": "execute_result",
          "data": {
            "text/plain": [
              "'HELLO'"
            ],
            "application/vnd.google.colaboratory.intrinsic+json": {
              "type": "string"
            }
          },
          "metadata": {},
          "execution_count": 7
        }
      ]
    },
    {
      "cell_type": "code",
      "source": [
        "#5.Write a code to replace the word \"apple\" with \"orange\" in the string \"I like apple\".\n",
        "str=\"I like apple\"\n",
        "str.replace(\"apple\",\"orange\")"
      ],
      "metadata": {
        "colab": {
          "base_uri": "https://localhost:8080/",
          "height": 36
        },
        "id": "ufKOEAeNlm4f",
        "outputId": "15f0d8f3-6231-413e-b317-9ce0fd421151"
      },
      "execution_count": 8,
      "outputs": [
        {
          "output_type": "execute_result",
          "data": {
            "text/plain": [
              "'I like orange'"
            ],
            "application/vnd.google.colaboratory.intrinsic+json": {
              "type": "string"
            }
          },
          "metadata": {},
          "execution_count": 8
        }
      ]
    },
    {
      "cell_type": "code",
      "source": [
        "#6.Write a code to create a list with numbers 1 to 5 and print it.\n",
        "list=[1,2,3,4,5]\n",
        "print(list)"
      ],
      "metadata": {
        "colab": {
          "base_uri": "https://localhost:8080/"
        },
        "id": "H6q4JYqymRYP",
        "outputId": "1f8c734d-fe62-4939-8864-edf4450f26c8"
      },
      "execution_count": 9,
      "outputs": [
        {
          "output_type": "stream",
          "name": "stdout",
          "text": [
            "[1, 2, 3, 4, 5]\n"
          ]
        }
      ]
    },
    {
      "cell_type": "code",
      "source": [
        "#7.Write a code to append the number 10 to the list [1, 2, 3, 4].\n",
        "list=[1,2,3,4]\n",
        "list.append(100)\n",
        "print(list)"
      ],
      "metadata": {
        "colab": {
          "base_uri": "https://localhost:8080/"
        },
        "id": "1YOmc7QDm0e3",
        "outputId": "7ed44b97-e449-4020-f0ac-3212b4abb32d"
      },
      "execution_count": 10,
      "outputs": [
        {
          "output_type": "stream",
          "name": "stdout",
          "text": [
            "[1, 2, 3, 4, 100]\n"
          ]
        }
      ]
    },
    {
      "cell_type": "code",
      "source": [
        "#8.Write a code to remove the number 3 from the list [1, 2, 3, 4, 5].\n",
        "list=[1,2,3,4,5]\n",
        "list.remove(3)\n",
        "print(list)"
      ],
      "metadata": {
        "colab": {
          "base_uri": "https://localhost:8080/"
        },
        "id": "w84T26LUnLQe",
        "outputId": "de96eda2-1cce-4baa-ce56-fafaaf18c5aa"
      },
      "execution_count": 11,
      "outputs": [
        {
          "output_type": "stream",
          "name": "stdout",
          "text": [
            "[1, 2, 4, 5]\n"
          ]
        }
      ]
    },
    {
      "cell_type": "code",
      "source": [
        "#9. Write a code to access the second element in the list ['a', 'b', 'c', 'd']\n",
        "list=['a','b','c','d']\n",
        "list[1]\n"
      ],
      "metadata": {
        "colab": {
          "base_uri": "https://localhost:8080/",
          "height": 36
        },
        "id": "gcbZKaJjnqPd",
        "outputId": "d89b41c7-f62a-418c-8c40-1dd4ecb06635"
      },
      "execution_count": 13,
      "outputs": [
        {
          "output_type": "execute_result",
          "data": {
            "text/plain": [
              "'b'"
            ],
            "application/vnd.google.colaboratory.intrinsic+json": {
              "type": "string"
            }
          },
          "metadata": {},
          "execution_count": 13
        }
      ]
    },
    {
      "cell_type": "code",
      "source": [
        "#10.Write a code to reverse the list [10, 20, 30, 40, 50].\n",
        "list=[10, 20, 30, 40, 50]\n",
        "list[::-1]"
      ],
      "metadata": {
        "colab": {
          "base_uri": "https://localhost:8080/"
        },
        "id": "HqIEmzRRoNqp",
        "outputId": "66d057e0-bf12-462f-afef-44b068dca1a0"
      },
      "execution_count": 14,
      "outputs": [
        {
          "output_type": "execute_result",
          "data": {
            "text/plain": [
              "[50, 40, 30, 20, 10]"
            ]
          },
          "metadata": {},
          "execution_count": 14
        }
      ]
    },
    {
      "cell_type": "code",
      "source": [
        "#11.Write a code to create a tuple with the elements 100, 200, 300 and print it\n",
        "t=(100,200,300)\n",
        "print(t)\n",
        "type(t)"
      ],
      "metadata": {
        "colab": {
          "base_uri": "https://localhost:8080/"
        },
        "id": "1NuAeCfJokTw",
        "outputId": "269b7c84-83e1-46c0-a430-db8285a9114c"
      },
      "execution_count": 16,
      "outputs": [
        {
          "output_type": "stream",
          "name": "stdout",
          "text": [
            "(100, 200, 300)\n"
          ]
        },
        {
          "output_type": "execute_result",
          "data": {
            "text/plain": [
              "tuple"
            ]
          },
          "metadata": {},
          "execution_count": 16
        }
      ]
    },
    {
      "cell_type": "code",
      "source": [
        "#12. Write a code to access the second-to-last element of the tuple ('red', 'green', 'blue', 'yellow')\n",
        "tuple=('red', 'green', 'blue', 'yellow')\n",
        "tuple[2::]"
      ],
      "metadata": {
        "colab": {
          "base_uri": "https://localhost:8080/"
        },
        "id": "A-E39eb-o2a4",
        "outputId": "eeadbd3b-c6b8-4d85-879f-4cae6f0a2813"
      },
      "execution_count": 17,
      "outputs": [
        {
          "output_type": "execute_result",
          "data": {
            "text/plain": [
              "('blue', 'yellow')"
            ]
          },
          "metadata": {},
          "execution_count": 17
        }
      ]
    },
    {
      "cell_type": "code",
      "source": [
        "#13.. Write a code to find the minimum number in the tuple (10, 20, 5, 15)\n",
        "t=(10, 20, 5, 15)\n",
        "min(t)"
      ],
      "metadata": {
        "colab": {
          "base_uri": "https://localhost:8080/"
        },
        "id": "_L2tt8KppZld",
        "outputId": "fd30a6e6-c8e6-464d-aa7f-901ac7d267eb"
      },
      "execution_count": 18,
      "outputs": [
        {
          "output_type": "execute_result",
          "data": {
            "text/plain": [
              "5"
            ]
          },
          "metadata": {},
          "execution_count": 18
        }
      ]
    },
    {
      "cell_type": "code",
      "source": [
        "#14.Write a code to find the index of the element \"cat\" in the tuple ('dog', 'cat', 'rabbit')\n",
        "t=('dog', 'cat', 'rabbit')\n",
        "t.index(\"cat\")"
      ],
      "metadata": {
        "colab": {
          "base_uri": "https://localhost:8080/"
        },
        "id": "WMc1UpslpmnU",
        "outputId": "d5088c82-eb62-40fc-bfb5-8b92c8289eb8"
      },
      "execution_count": 21,
      "outputs": [
        {
          "output_type": "execute_result",
          "data": {
            "text/plain": [
              "1"
            ]
          },
          "metadata": {},
          "execution_count": 21
        }
      ]
    },
    {
      "cell_type": "code",
      "source": [
        "#15. Write a code to create a tuple containing three different fruits and check if \"kiwi\" is in it\n",
        "t=(\"apple\",\"kiwi\",\"mango\")\n",
        "\"kiwi\" in t"
      ],
      "metadata": {
        "colab": {
          "base_uri": "https://localhost:8080/"
        },
        "id": "vuxZfo9oqMOj",
        "outputId": "eaea53d3-d460-4d13-f4a4-2c6984a4bf9e"
      },
      "execution_count": 23,
      "outputs": [
        {
          "output_type": "execute_result",
          "data": {
            "text/plain": [
              "True"
            ]
          },
          "metadata": {},
          "execution_count": 23
        }
      ]
    },
    {
      "cell_type": "code",
      "source": [
        "#16.Write a code to create a set with the elements 'a', 'b', 'c' and print it\n",
        "set={'a','b','c'}\n",
        "print(set)\n",
        "type(set)"
      ],
      "metadata": {
        "colab": {
          "base_uri": "https://localhost:8080/"
        },
        "id": "GEg-zIorq-xk",
        "outputId": "ad8ee33d-66da-439c-ebbc-6bbe0f5d1afc"
      },
      "execution_count": 24,
      "outputs": [
        {
          "output_type": "stream",
          "name": "stdout",
          "text": [
            "{'c', 'b', 'a'}\n"
          ]
        },
        {
          "output_type": "execute_result",
          "data": {
            "text/plain": [
              "set"
            ]
          },
          "metadata": {},
          "execution_count": 24
        }
      ]
    },
    {
      "cell_type": "code",
      "source": [
        "#17. Write a code to clear all elements from the set {1, 2, 3, 4, 5}.\n",
        "set={1,2,3,4,5}\n",
        "set.clear()\n",
        "print(set)"
      ],
      "metadata": {
        "colab": {
          "base_uri": "https://localhost:8080/"
        },
        "id": "cHBd7dsaq520",
        "outputId": "b872d502-813a-4303-be1e-33249d87ec5d"
      },
      "execution_count": 26,
      "outputs": [
        {
          "output_type": "stream",
          "name": "stdout",
          "text": [
            "set()\n"
          ]
        }
      ]
    },
    {
      "cell_type": "code",
      "source": [
        "#18. Write a code to remove the element 4 from the set {1, 2, 3, 4}.\n",
        "set={1,2,3,4,5}\n",
        "set.remove(4)\n",
        "print(set)"
      ],
      "metadata": {
        "colab": {
          "base_uri": "https://localhost:8080/"
        },
        "id": "7Q8DJ-MIrudD",
        "outputId": "697caad7-dbfb-4a7c-e457-ba480032b878"
      },
      "execution_count": 27,
      "outputs": [
        {
          "output_type": "stream",
          "name": "stdout",
          "text": [
            "{1, 2, 3, 5}\n"
          ]
        }
      ]
    },
    {
      "cell_type": "code",
      "source": [
        "#19.Write a code to find the union of two sets {1, 2, 3} and {3, 4, 5}\n",
        "a={1,2,3}\n",
        "b={3,4,5}\n",
        "a|b"
      ],
      "metadata": {
        "colab": {
          "base_uri": "https://localhost:8080/"
        },
        "id": "zr6BU18hsB5z",
        "outputId": "83afc178-6dc4-4ce2-ec16-771cb94c0ca4"
      },
      "execution_count": 28,
      "outputs": [
        {
          "output_type": "execute_result",
          "data": {
            "text/plain": [
              "{1, 2, 3, 4, 5}"
            ]
          },
          "metadata": {},
          "execution_count": 28
        }
      ]
    },
    {
      "cell_type": "code",
      "source": [
        "#20. Write a code to find the intersection of two sets {1, 2, 3} and {2, 3, 4}\n",
        "a={1,2,3}\n",
        "b={2,3,4}\n",
        "a&b\n"
      ],
      "metadata": {
        "colab": {
          "base_uri": "https://localhost:8080/"
        },
        "id": "h9QtUKcRsqTj",
        "outputId": "ee665ce9-fd87-43eb-b76c-c139a76019ca"
      },
      "execution_count": 29,
      "outputs": [
        {
          "output_type": "execute_result",
          "data": {
            "text/plain": [
              "{2, 3}"
            ]
          },
          "metadata": {},
          "execution_count": 29
        }
      ]
    },
    {
      "cell_type": "code",
      "source": [
        "#21. Write a code to create a dictionary with the keys \"name\", \"age\", and \"city\", and print it\n",
        "d={\"name\":\"Astha\",\"age\":21,\"city\":\"varanasi\"}\n",
        "print(d)"
      ],
      "metadata": {
        "colab": {
          "base_uri": "https://localhost:8080/"
        },
        "id": "dAXiyRD_sua8",
        "outputId": "11981fb1-2d10-4a81-8c95-db61b30853e1"
      },
      "execution_count": 30,
      "outputs": [
        {
          "output_type": "stream",
          "name": "stdout",
          "text": [
            "{'name': 'Astha', 'age': 21, 'city': 'varanasi'}\n"
          ]
        }
      ]
    },
    {
      "cell_type": "code",
      "source": [
        "#22. Write a code to add a new key-value pair \"country\": \"USA\" to the dictionary  {'name': 'John', 'age': 25}.\n",
        "d= {'name': 'John', 'age': 25}\n",
        "d[\"country\"]=\"USA\"\n",
        "print(d)\n"
      ],
      "metadata": {
        "colab": {
          "base_uri": "https://localhost:8080/"
        },
        "id": "XCGAt7SctkD5",
        "outputId": "38fb80e8-4f99-45e3-89f6-bcb69ef9a3f5"
      },
      "execution_count": 34,
      "outputs": [
        {
          "output_type": "stream",
          "name": "stdout",
          "text": [
            "{'name': 'John', 'age': 25, 'country': 'USA'}\n"
          ]
        }
      ]
    },
    {
      "cell_type": "code",
      "source": [
        "#23.Write a code to access the value associated with the key \"name\" in the dictionary {'name': 'Alice', 'age': 30}\n",
        "d={'name': 'Alice', 'age': 30}\n",
        "d[\"name\"]"
      ],
      "metadata": {
        "colab": {
          "base_uri": "https://localhost:8080/",
          "height": 36
        },
        "id": "m7GUkpdQsirh",
        "outputId": "a1c6ddbf-ac5d-4ea0-8a22-64dc49a0af33"
      },
      "execution_count": 35,
      "outputs": [
        {
          "output_type": "execute_result",
          "data": {
            "text/plain": [
              "'Alice'"
            ],
            "application/vnd.google.colaboratory.intrinsic+json": {
              "type": "string"
            }
          },
          "metadata": {},
          "execution_count": 35
        }
      ]
    },
    {
      "cell_type": "code",
      "source": [
        "#24. Write a code to remove the key \"age\" from the dictionary {'name': 'Bob', 'age': 22, 'city': 'New York}\n",
        "d= {'name': 'Bob', 'age': 22, 'city': 'New York'}\n",
        "del d[\"age\"]\n",
        "print(d)\n"
      ],
      "metadata": {
        "colab": {
          "base_uri": "https://localhost:8080/"
        },
        "id": "k7kbmu_Iv3GG",
        "outputId": "e19ebb7f-1b56-4a64-c1eb-e59eaaba8a1b"
      },
      "execution_count": 37,
      "outputs": [
        {
          "output_type": "stream",
          "name": "stdout",
          "text": [
            "{'name': 'Bob', 'city': 'New York'}\n"
          ]
        }
      ]
    },
    {
      "cell_type": "code",
      "source": [
        "#25.Write a code to check if the key \"city\" exists in the dictionary {'name': 'Alice', 'city': 'Paris'}\n",
        "d={'name': 'Alice', 'city': 'Paris'}\n",
        "\"city\" in d\n"
      ],
      "metadata": {
        "colab": {
          "base_uri": "https://localhost:8080/"
        },
        "id": "dDApVLEKwndP",
        "outputId": "1f3bd206-0758-48ae-a8ae-0b4e5c034b3c"
      },
      "execution_count": 38,
      "outputs": [
        {
          "output_type": "execute_result",
          "data": {
            "text/plain": [
              "True"
            ]
          },
          "metadata": {},
          "execution_count": 38
        }
      ]
    },
    {
      "cell_type": "code",
      "source": [
        "#26. Write a code to create a list, a tuple, and a dictionary, and print them all\n",
        "my_list = [1, 2, 3, 4, 5]\n",
        "my_tuple = (10, 20, 30, 40, 50)\n",
        "my_dict = {\"name\": \"Alice\", \"age\": 25, \"city\": \"New York\"}\n",
        "print(\"List:\", my_list)\n",
        "print(\"Tuple:\", my_tuple)\n",
        "print(\"Dictionary:\", my_dict)\n"
      ],
      "metadata": {
        "colab": {
          "base_uri": "https://localhost:8080/"
        },
        "id": "DQViIdrKw8kb",
        "outputId": "c682c52d-cf6e-435c-9e3f-22bc259725b8"
      },
      "execution_count": 39,
      "outputs": [
        {
          "output_type": "stream",
          "name": "stdout",
          "text": [
            "List: [1, 2, 3, 4, 5]\n",
            "Tuple: (10, 20, 30, 40, 50)\n",
            "Dictionary: {'name': 'Alice', 'age': 25, 'city': 'New York'}\n"
          ]
        }
      ]
    },
    {
      "cell_type": "code",
      "source": [
        "#27. Write a code to create a list of 5 random numbers between 1 and 100, sort it in ascending order, and print the result.\n",
        "list=[2,43,55,89,21]\n",
        "list.sort()\n",
        "print(list)"
      ],
      "metadata": {
        "colab": {
          "base_uri": "https://localhost:8080/"
        },
        "id": "E7LzBJQuxfkp",
        "outputId": "26ce4a39-d4bc-4aa6-e3cb-a437d308ba0f"
      },
      "execution_count": 41,
      "outputs": [
        {
          "output_type": "stream",
          "name": "stdout",
          "text": [
            "[2, 21, 43, 55, 89]\n"
          ]
        }
      ]
    },
    {
      "cell_type": "code",
      "source": [
        "#28. Write a code to create a list with strings and print the element at the third index\n",
        "list=[\"astha\",\"apple\",\"friends\",\"banana\"]\n",
        "list[3]"
      ],
      "metadata": {
        "colab": {
          "base_uri": "https://localhost:8080/",
          "height": 36
        },
        "id": "ieeLn-qnyhq5",
        "outputId": "d818c91d-0ddd-4f88-ea17-b80a8fa2ab5b"
      },
      "execution_count": 43,
      "outputs": [
        {
          "output_type": "execute_result",
          "data": {
            "text/plain": [
              "'banana'"
            ],
            "application/vnd.google.colaboratory.intrinsic+json": {
              "type": "string"
            }
          },
          "metadata": {},
          "execution_count": 43
        }
      ]
    },
    {
      "cell_type": "code",
      "source": [
        "#29.Write a code to combine two dictionaries into one and print the result\n",
        "dict1 = {\"name\": \"Alice\", \"age\": 25}\n",
        "dict2 = {\"city\": \"New York\", \"job\": \"Engineer\"}\n",
        "combined_dict = {**dict1, **dict2}\n",
        "print(\"Combined Dictionary:\", combined_dict)\n"
      ],
      "metadata": {
        "colab": {
          "base_uri": "https://localhost:8080/"
        },
        "id": "JMPOZ-kGy_Jg",
        "outputId": "793997f6-1d5a-4ccd-e44c-0c7a273419b2"
      },
      "execution_count": 44,
      "outputs": [
        {
          "output_type": "stream",
          "name": "stdout",
          "text": [
            "Combined Dictionary: {'name': 'Alice', 'age': 25, 'city': 'New York', 'job': 'Engineer'}\n"
          ]
        }
      ]
    },
    {
      "cell_type": "code",
      "source": [
        "#30. Write a code to convert a list of strings into a set\n",
        "string_list = [\"apple\", \"banana\", \"cherry\", \"apple\", \"orange\"]\n",
        "string_set = set(string_list)\n",
        "print(\"Set:\", string_set)\n"
      ],
      "metadata": {
        "colab": {
          "base_uri": "https://localhost:8080/",
          "height": 200
        },
        "id": "zq1T4T0Y0DO-",
        "outputId": "ba0b6c90-ebc3-4aaa-a791-db7c6c618891"
      },
      "execution_count": 52,
      "outputs": [
        {
          "output_type": "error",
          "ename": "TypeError",
          "evalue": "'set' object is not callable",
          "traceback": [
            "\u001b[0;31m---------------------------------------------------------------------------\u001b[0m",
            "\u001b[0;31mTypeError\u001b[0m                                 Traceback (most recent call last)",
            "\u001b[0;32m<ipython-input-52-d8637ce41206>\u001b[0m in \u001b[0;36m<cell line: 0>\u001b[0;34m()\u001b[0m\n\u001b[1;32m      1\u001b[0m \u001b[0;31m#30. Write a code to convert a list of strings into a set\u001b[0m\u001b[0;34m\u001b[0m\u001b[0;34m\u001b[0m\u001b[0m\n\u001b[1;32m      2\u001b[0m \u001b[0mstring_list\u001b[0m \u001b[0;34m=\u001b[0m \u001b[0;34m[\u001b[0m\u001b[0;34m\"apple\"\u001b[0m\u001b[0;34m,\u001b[0m \u001b[0;34m\"banana\"\u001b[0m\u001b[0;34m,\u001b[0m \u001b[0;34m\"cherry\"\u001b[0m\u001b[0;34m,\u001b[0m \u001b[0;34m\"apple\"\u001b[0m\u001b[0;34m,\u001b[0m \u001b[0;34m\"orange\"\u001b[0m\u001b[0;34m]\u001b[0m\u001b[0;34m\u001b[0m\u001b[0;34m\u001b[0m\u001b[0m\n\u001b[0;32m----> 3\u001b[0;31m \u001b[0mstring_set\u001b[0m \u001b[0;34m=\u001b[0m \u001b[0mset\u001b[0m\u001b[0;34m(\u001b[0m\u001b[0mstring_list\u001b[0m\u001b[0;34m)\u001b[0m\u001b[0;34m\u001b[0m\u001b[0;34m\u001b[0m\u001b[0m\n\u001b[0m\u001b[1;32m      4\u001b[0m \u001b[0mprint\u001b[0m\u001b[0;34m(\u001b[0m\u001b[0;34m\"Set:\"\u001b[0m\u001b[0;34m,\u001b[0m \u001b[0mstring_set\u001b[0m\u001b[0;34m)\u001b[0m\u001b[0;34m\u001b[0m\u001b[0;34m\u001b[0m\u001b[0m\n",
            "\u001b[0;31mTypeError\u001b[0m: 'set' object is not callable"
          ]
        }
      ]
    }
  ]
}